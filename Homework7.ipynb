{
 "cells": [
  {
   "cell_type": "markdown",
   "metadata": {},
   "source": [
    "# Homework 7\n",
    "## Due: March 6, 2018, 8 a.m.\n",
    "\n",
    "Please give a complete, justified solution to each question below. A single-term answer without explanation will receive no credit. \n",
    "\n",
    "Please complete each question on its own sheet of paper (or more if necessary), and upload to [Gradsescope](https://gradescope.com/)."
   ]
  },
  {
   "cell_type": "markdown",
   "metadata": {},
   "source": [
    "$$\n",
    "\\newcommand{\\R}{\\mathbb{R}}\n",
    "\\newcommand{\\dydx}{\\frac{dy}{dx}}\n",
    "\\newcommand{\\proj}{\\textrm{proj}}\n",
    "% For boldface vectors:\n",
    "\\renewcommand{\\vec}[1]{\\mathbf{#1}}\n",
    "$$"
   ]
  },
  {
   "cell_type": "markdown",
   "metadata": {},
   "source": [
    "1\\. Consider the function $$f(x, y) = 2 x^2+y^2 - k xy$$\n",
    "where $k$ is some fixed constant.\n",
    "\n",
    "&nbsp;&nbsp;a\\. Show that for any value of $k$, $(0, 0)$ is a critical point of $f$.\n",
    "\n",
    "&nbsp;&nbsp;b\\. Determine the values of $k$ (if any) for which $(0, 0)$ is\n",
    "  - a saddle point,\n",
    "  - corresponds with a local maximum,\n",
    "  - corresponds with a local minimum."
   ]
  },
  {
   "cell_type": "markdown",
   "metadata": {},
   "source": [
    "2\\. Show that the point $(c,d)$ for which the sum of the squares of the distances to a set of fixed points $(a_1,b_1),(a_2,b_2),\\ldots,(a_n,b_n)$ is minimized is located such that $c$ is the average of the $a$-coordinates and $d$ is the average of the $b$-coordinates. "
   ]
  },
  {
   "cell_type": "markdown",
   "metadata": {},
   "source": [
    "3\\. A region in the plane consist of a semicircle sitting atop a rectangle. If the perimeter is fixed and the area is maximized, find the ratio $\\frac{\\ell}{h}$ of the sides of the rectangle.\n",
    "![HW7-2-Figure](hw7-2.png)\n",
    "      "
   ]
  },
  {
   "cell_type": "markdown",
   "metadata": {},
   "source": [
    "4\\. A solid sphere $x^2+y^2+z^2\\le1$ has a temperature distribution given by \\\\[ T(x,y,z) = e^{-((2+5x)^2+(1-5y)^2+(2-5z)^2)} \\\\]\n",
    "Find its hottest and coldest temperatures."
   ]
  },
  {
   "cell_type": "markdown",
   "metadata": {},
   "source": [
    "5\\.&nbsp;&nbsp;Consider the problem of minimizing the function $f(x, y) = x$ on the curve $y^2 + x^4 - x^3 = 0$ (a type of curve known as a \"piriform\"). ![Piriform](piri.png)\n",
    "\n",
    "&nbsp;&nbsp;a\\. Try using Lagrange multipliers to solve the problem.\n",
    "\n",
    "&nbsp;&nbsp;b\\. Show that the minimum value is $f(0, 0)$ even though the Lagrange condition $\\nabla f(0, 0) = \\lambda \\nabla g(0, 0)$ is not satisfied for any value $\\lambda$.\n",
    "\n",
    "&nbsp;&nbsp;c\\. Briefly explain (1–2 sentences) why Lagrange multipliers fail to find the minimum value in this case. "
   ]
  }
 ],
 "metadata": {
  "kernelspec": {
   "display_name": "Python 3",
   "language": "python",
   "name": "python3"
  },
  "language_info": {
   "codemirror_mode": {
    "name": "ipython",
    "version": 3
   },
   "file_extension": ".py",
   "mimetype": "text/x-python",
   "name": "python",
   "nbconvert_exporter": "python",
   "pygments_lexer": "ipython3",
   "version": "3.6.3"
  }
 },
 "nbformat": 4,
 "nbformat_minor": 2
}
