{
 "cells": [
  {
   "cell_type": "markdown",
   "metadata": {},
   "source": [
    "# Homework 4\n",
    "## Due: February 13, 2018, 8 a.m.\n",
    "\n",
    "Please give a complete, justified solution to each question below. A single-term answer without explanation will receive no credit. \n",
    "\n",
    "Please complete each question on its own sheet of paper (or more if necessary), and upload to [Gradsescope](https://gradescope.com/)."
   ]
  },
  {
   "cell_type": "markdown",
   "metadata": {},
   "source": [
    "$$\n",
    "\\newcommand{\\R}{\\mathbb{R}}\n",
    "\\newcommand{\\dydx}{\\frac{dy}{dx}}\n",
    "\\newcommand{\\proj}{\\textrm{proj}}\n",
    "% For boldface vectors:\n",
    "\\renewcommand{\\vec}[1]{\\mathbf{#1}}\n",
    "$$"
   ]
  },
  {
   "cell_type": "markdown",
   "metadata": {},
   "source": [
    "1\\. For each function below, (i) identify the domain and range of $f$, and (ii) sketch a contour plot. Draw 5 contours or so at regular intervals of $k$, enough to get the general shape of the graph. \t\n",
    "\n",
    "  - \\\\[ f(x,y) = \\ln((x-y)^2) \\\\]\n",
    "  - \\\\[ f(x,y) = \\sin(-3x-4y) \\\\]\n",
    "  - \\\\[ f(x,y) = \\frac{2y-x}{x+y+1} \\\\]"
   ]
  },
  {
   "cell_type": "markdown",
   "metadata": {},
   "source": [
    "2\\.&nbsp;&nbsp; \n",
    "  Recall that a \"hill\" can be represented by the graph of the function \\\\[ f(x,y) = e^{-(x^2+y^2)}\\\\] <img src=\"hill.png\" alt=\"A hill\" width = \"33%\">\n",
    "  \n",
    "  For each of the following \"landscapes\" find a function who graph resembles the picture in questions. \n",
    "  <p>Try to capture the features but do not worry about an exact match. Use transformations of the function above and experiment with different forms. All pictures were rendered in <i>Mathematica</i> with the following code, where <code>####</code> is the formula for the function in terms of $x$ and $y$.</p>\n",
    "<blockquote><code>Plot3D[ #### ,{x,-5,5},{y,-5,5},PlotRange->Full]</code></blockquote>\n",
    "\n",
    "  - \"Three peaks of varying widths and heights\" <img src=\"threepeaks.png\" alt=\"3 peaks\" width = \"33%\"><i>Hint: Use a sum of transformations of the \"hill\" above.</i>\n",
    "  - \"A mountain range extendinging infinitely in one direction.\"<img src=\"mtrange.png\" alt=\"A hill\" width = \"33%\"><i>Do not use and infinite sum here. Use a periodic function.</i>\n",
    "  - \"A canyon.\" <img src=\"canyon.png\" alt=\"A hill\" width = \"33%\">\n",
    "  - \"A volcano with crater.\" <i>Use your imagination</i>"
   ]
  },
  {
   "cell_type": "markdown",
   "metadata": {},
   "source": [
    "3\\. \t\n",
    "\n",
    "  - Use the squeeze theorem to evaluate\n",
    "\t\\\\[ \\lim_{(x,y) \\rightarrow (0, 0)} \\tan(x) \\ \\sin\\left(\\frac{1}{|x| + |y|}\\right).\\\\]\n",
    "\n",
    "  - Consider the function\n",
    "\t\\\\[ f(x, y) = \\left\\{ \\begin{array}{l c l}\\frac{x^ay^b}{x^2 + y^{2}} & & (x, y) \\neq (0, 0)\\\\~\\\\\n",
    "\t\t\t0\t& & (x, y) = (0, 0)\\end{array}\\right.\\\\]\n",
    "\twhere $a, b$ are nonnegative integers.\n",
    "\n",
    "\tFor what values of $a$ and $b$ is the function $f$ continuous at $(0, 0)$? (Try some concrete examples like $a=1,b=5$ or $a=0,b=1$ first.)\n"
   ]
  },
  {
   "cell_type": "markdown",
   "metadata": {},
   "source": [
    "4\\. The hyperbolic secant function is defined as \\\\[ \\text{sech}(x) = \\frac{2}{e^x+e^{-x}}\\\\]\n",
    "\n",
    "Show that \\\\[u(x,t) = \\sqrt{6}\\text{sech}(x-t) \\\\] is a solution to the modified KdV equation \\\\[ u_t +u^2u_x+u_{xxx} =0. \\\\]"
   ]
  }
 ],
 "metadata": {
  "kernelspec": {
   "display_name": "Python 3",
   "language": "python",
   "name": "python3"
  },
  "language_info": {
   "codemirror_mode": {
    "name": "ipython",
    "version": 3
   },
   "file_extension": ".py",
   "mimetype": "text/x-python",
   "name": "python",
   "nbconvert_exporter": "python",
   "pygments_lexer": "ipython3",
   "version": "3.6.3"
  }
 },
 "nbformat": 4,
 "nbformat_minor": 2
}
