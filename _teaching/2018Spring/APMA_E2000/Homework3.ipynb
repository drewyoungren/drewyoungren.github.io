{
 "cells": [
  {
   "cell_type": "markdown",
   "metadata": {},
   "source": [
    "# Homework 3\n",
    "## Due: February 6, 2018, 8 a.m.\n",
    "\n",
    "Please give a complete, justified solution to each question below. A single-term answer without explanation will receive no credit. \n",
    "\n",
    "Please complete each question on its own sheet of paper (or more if necessary), and upload to [Gradsescope](https://gradescope.com/)."
   ]
  },
  {
   "cell_type": "markdown",
   "metadata": {},
   "source": [
    "$$\n",
    "\\newcommand{\\R}{\\mathbb{R}}\n",
    "\\newcommand{\\dydx}{\\frac{dy}{dx}}\n",
    "\\newcommand{\\proj}{\\textrm{proj}}\n",
    "% For boldface vectors:\n",
    "\\renewcommand{\\vec}[1]{\\mathbf{#1}}\n",
    "$$"
   ]
  },
  {
   "cell_type": "markdown",
   "metadata": {},
   "source": [
    "1\\.&nbsp;&nbsp; \n",
    "  - Find the point on the curve \\\\[\\vec r(t) = \\langle t^3 + 3t, t^2 + 1, \\ln(1 + 2t) \\rangle, ~ 0 \\leq t \\leq \\pi,\\\\] where the tangent line is  orthogonal to the plane \\\\[15 x + 4 y + 0.4 z = 10.\\\\]\n",
    "  - Then find the intersection of this tangent line with the plane above."
   ]
  },
  {
   "cell_type": "markdown",
   "metadata": {},
   "source": [
    "2\\. A spaceship, with its engines engaged, has position vector \\\\[\n",
    "\t\\vec{r}(t) = \\left\\langle t \\cos (t),t \\sin (t),a t\\right\\rangle\\\\] where $a$ can be set as an arbitrary constant.\n",
    "\\\\] The space station is located at coordinates $\\langle -\\pi-3,-3\\pi,2\\rangle$. The captain wants to coast into the space station. \n",
    "  - When should the engines be turned off? (Hint: You can use onely the $x$- and $y$-components to do this)\n",
    "  - What value should $a$ be set to?\n"
   ]
  },
  {
   "cell_type": "markdown",
   "metadata": {},
   "source": [
    "3\\. Show that a projectile fired from ground attains three-quarters of its maximum height in half the time it takes to reach the maximum height."
   ]
  },
  {
   "cell_type": "markdown",
   "metadata": {},
   "source": [
    "4\\. Suppose an ant crawls onto the edge of a 12\\\" (diameter) record on a turntable spinning at $33\\frac13$ revolutions per minute. A stationary observer looking from above will see its path as motion in the $xy$-plane. \n",
    "\n",
    "![Ant on a record](ant-hw3.png)\n",
    "\n",
    "  - Suppose the ant stops on the edge of the spinning platter (radius $6''$). Find its position, velocity and acceleration relative to the observer as vector-valued finctions of time $t$ in seconds. (You can model its starting position as $\\langle 6,0\\rangle$ at time $t=0$.)\n",
    "  - Now imagine the ant walks down a radial line of the record toward the center of the turntable. From its perspective, it walks at constant speed and in a straight line, arriving at the center at time $t=45$. Write the ant's position as a vector-valued function of time $t$. \n",
    "  - At any given time $t$, let $\\vec b$ be the unit vector pointing from the ant's position toward the center of the turntable, and let $\\vec c$ be the unit vector in the direction of the spinning turntable (i.e., perpendicular to $\\vec b$). Write the acceleration of the ant as a linear combination of $\\vec b$ and $\\vec c$. "
   ]
  },
  {
   "cell_type": "code",
   "execution_count": null,
   "metadata": {
    "collapsed": true
   },
   "outputs": [],
   "source": []
  }
 ],
 "metadata": {
  "kernelspec": {
   "display_name": "Python 3",
   "language": "python",
   "name": "python3"
  },
  "language_info": {
   "codemirror_mode": {
    "name": "ipython",
    "version": 3
   },
   "file_extension": ".py",
   "mimetype": "text/x-python",
   "name": "python",
   "nbconvert_exporter": "python",
   "pygments_lexer": "ipython3",
   "version": "3.6.3"
  }
 },
 "nbformat": 4,
 "nbformat_minor": 2
}
