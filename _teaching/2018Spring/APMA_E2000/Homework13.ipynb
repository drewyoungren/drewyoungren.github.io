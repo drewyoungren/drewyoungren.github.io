{
 "cells": [
  {
   "cell_type": "markdown",
   "metadata": {},
   "source": [
    "# Homework 13 Solution"
   ]
  },
  {
   "cell_type": "markdown",
   "metadata": {},
   "source": [
    "$$\n",
    "\\newcommand{\\R}{\\mathbb{R}}\n",
    "\\newcommand{\\dydx}{\\frac{dy}{dx}}\n",
    "\\newcommand{\\div}{\\operatorname{div}}\n",
    "\\newcommand{\\curl}{\\operatorname{curl}}\n",
    "\\newcommand{\\proj}{\\textrm{proj}}\n",
    "% For boldface vectors:\n",
    "\\renewcommand{\\vec}[1]{\\mathbf{#1}}\n",
    "$$"
   ]
  },
  {
   "cell_type": "markdown",
   "metadata": {},
   "source": [
    "1\\. Integrate $g(x, y, z) = x\\sqrt{y^2+4}$ over the surface $S$ that is the portion of the surface $y^2 + 4z = 16$ that lies between the planes $x = 0$, $x = 1$, and $z = 0$.\n"
   ]
  },
  {
   "cell_type": "markdown",
   "metadata": {},
   "source": [
    "2\\. Find the outward flux of the field $\\vec F = xz\\, \\vec i + yz \\,\\vec j + \\vec k$ across the surface of the portion of the sphere $x^2 + y^2 + z^2 = 25$ above the plane $z = 3$."
   ]
  },
  {
   "cell_type": "markdown",
   "metadata": {},
   "source": [
    "3\\. Let $\\vec n$ be the outer unit normal of the surface $S$ given by $4x^2 + 9y^2 + 36z^2 = 26, z \\geq 0$, and let $\\vec F(x, y, z) = y\\vec i + x^2 \\vec j + (x^2 + y^4)^{3/2} \\sin(e^{\\sqrt{xyz}})\\vec k$.\n",
    "\n",
    "Find the value of\n",
    "\\\\[ \\iint_S \\curl \\vec F \\cdot d \\vec S. \\\\]\n",
    "\n",
    "Hint: One parametrization of the ellipse at the base of the shell is of the form $x = a \\cos(t), y = b\\cos(t)$, for some constants $a, b$.\n",
    "\n",
    "Further Hint: That last compnent of $\\vec F$ is so complicated, it must not matter. Why not?"
   ]
  },
  {
   "cell_type": "markdown",
   "metadata": {},
   "source": [
    "4\\. Use the Divergence Theorem to find the outward flux of $\\vec F$ across the boundary of the region $D$, where $\\vec F(x, y, z) = y\\, \\vec i + xy\\, \\vec j - z\\, \\vec k$ and $D$ is the region inside the solid cylinder $x^2 + y^2 \\leq 4$, between the plane $z = 0$ and the paraboloid $z = x^2 + y^2$."
   ]
  },
  {
   "cell_type": "markdown",
   "metadata": {},
   "source": [
    "5\\. Among all rectangular solids defined by the inequalities $0 \\leq x \\leq a, 0 \\leq y \\leq b, 0 \\leq z \\leq 1$, find the one for which the total flux of $\\vec F(x, y, z) = (-x^2 - 4xy) \\,\\vec i - 6 yz\\, \\vec j + 12z\\, \\vec k$ outward through the six sides is the greatest.  What is the value of the greatest flux?"
   ]
  },
  {
   "cell_type": "markdown",
   "metadata": {},
   "source": [
    "6\\. Consider the surface $S$ consisteng of the part of the cylinder $y^2+z^2=1$ where $z\\geq 0$ and $1\\leq x \\leq 3$. Find the flux of the vector field \\\\[\\vec F(x,y,z) = \\tan^{-1}\\frac{y}{z+1}\\,\\vec i + \\,x^2\\vec j + z\\,\\vec k \\\\] upward through $S$ indirectly as follows\\*. \n",
    "  - Make $S$ into a closed surface by capping its ends with half-discs and its bottom with a rectangle. \n",
    "  - Find the flux through each of these \"new\" surfaces without actually computing a double integral (i.e., use $\\iint_S \\vec F\\cdot\\vec n\\,dS$).\n",
    "  - Apply the divergence theorem and draw a conclusion about the flux through the original surface $S$. \n",
    "  \n",
    "\\*Following this procedure, one should not need to take a single antiderivative."
   ]
  }
 ],
 "metadata": {
  "kernelspec": {
   "display_name": "Python [conda env:py35]",
   "language": "python",
   "name": "conda-env-py35-py"
  },
  "language_info": {
   "codemirror_mode": {
    "name": "ipython",
    "version": 3
   },
   "file_extension": ".py",
   "mimetype": "text/x-python",
   "name": "python",
   "nbconvert_exporter": "python",
   "pygments_lexer": "ipython3",
   "version": "3.5.2"
  }
 },
 "nbformat": 4,
 "nbformat_minor": 2
}
