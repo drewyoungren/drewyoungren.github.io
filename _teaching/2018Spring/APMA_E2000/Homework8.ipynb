{
 "cells": [
  {
   "cell_type": "markdown",
   "metadata": {},
   "source": [
    "# Homework 8\n",
    "## Due: March 20, 2018, 8 a.m.\n",
    "\n",
    "Please give a complete, justified solution to each question below. A single-term answer without explanation will receive no credit. \n",
    "\n",
    "Please complete each question on its own sheet of paper (or more if necessary), and upload to [Gradsescope](https://gradescope.com/)."
   ]
  },
  {
   "cell_type": "markdown",
   "metadata": {},
   "source": [
    "$$\n",
    "\\newcommand{\\R}{\\mathbb{R}}\n",
    "\\newcommand{\\dydx}{\\frac{dy}{dx}}\n",
    "\\newcommand{\\proj}{\\textrm{proj}}\n",
    "% For boldface vectors:\n",
    "\\renewcommand{\\vec}[1]{\\mathbf{#1}}\n",
    "$$"
   ]
  },
  {
   "cell_type": "markdown",
   "metadata": {},
   "source": [
    "1\\. The figure below shows the distribution of temperature, in $^\\circ$F, in a 5 meter by 5 meter unheated room.  Using Riemann sums, estimate the average temperature in the room.\n",
    "\n",
    "![Temperatures](temp.png)"
   ]
  },
  {
   "cell_type": "markdown",
   "metadata": {},
   "source": [
    "2\\. Sketch the region of integration (on the $xy$-plane) and evaluate the integral:\n",
    "\\\\[ \\int_1^9 \\int_{\\sqrt{y}}^y x^2 y^3 \\ dx \\ dy. \\\\]\n",
    "\n",
    "Then switch the order of integration and write it as a sum of two iterated integrals. "
   ]
  },
  {
   "cell_type": "markdown",
   "metadata": {},
   "source": [
    "3\\. If $R$ is the region $\\{(x, y) ~|~ x + y \\geq a, ~x^2 + y^2 \\leq a^2 \\}$, with $a > 0$, evaluate the integral\n",
    "\t\\\\[ \\underset{R}{\\iint} xy \\ dA. \\\\]\n",
    "Your answer will be in terms of $a$."
   ]
  },
  {
   "cell_type": "markdown",
   "metadata": {},
   "source": [
    "4\\. Express $D$, the shaded region below, as a union of regions bounded by graphs of functions in the plane, and evaluate the integral \t$\\displaystyle \\iint_D y \\ dA$.\n",
    "\n",
    "![Weird region](hw-12-2-fig2.png)\n"
   ]
  },
  {
   "cell_type": "markdown",
   "metadata": {},
   "source": [
    "5\\.&nbsp;&nbsp;Sketch the region of integration of\n",
    "\t\\\\[ \\int_0^1 \\int_{\\sqrt{1-x^2}}^{\\sqrt{4-x^2}} x \\ dy \\ dx + \\int_1^2 \\int_0^{\\sqrt{4-x^2}} x \\ dy \\ dx \\\\] and evaluate the integral using polar coordinates.\n"
   ]
  },
  {
   "cell_type": "markdown",
   "metadata": {},
   "source": [
    "6\\. Find the volume of an ice cream cone bounded by the hemisphere $z = \\sqrt{8-x^2 - y^2}$ and the cone $z = \\sqrt{x^2 + y^2}$.  (You could use either polar or Cartesian coordinates.)"
   ]
  },
  {
   "cell_type": "markdown",
   "metadata": {},
   "source": [
    "7\\. Sketch and describe the region of integration of the integral below.  Include clear explanation/justification.\n",
    "\n",
    "\\\\[ \\int_0^1 \\int_{-\\sqrt{1-z^2}}^{\\sqrt{1-z^2}} \\int_0^{\\sqrt{1-x^2 - z^2}} f(x, y, z) \\ dy \\ dx \\ dz. \\\\]"
   ]
  },
  {
   "cell_type": "markdown",
   "metadata": {},
   "source": [
    "8\\. Evaluate the following triple integral using only geometric interpretation and symmetry:\n",
    "\t\t\\\\[ \\underset{C}\\iiint\\ (4 + 5x^2yz^2) \\ dV, \\\\]\n",
    "\t\twhere $C$ is the cylindrical region: $x^2 + y^2 \\leq 4$, $-2 \\leq z \\leq 2$."
   ]
  }
 ],
 "metadata": {
  "kernelspec": {
   "display_name": "Python 3",
   "language": "python",
   "name": "python3"
  },
  "language_info": {
   "codemirror_mode": {
    "name": "ipython",
    "version": 3
   },
   "file_extension": ".py",
   "mimetype": "text/x-python",
   "name": "python",
   "nbconvert_exporter": "python",
   "pygments_lexer": "ipython3",
   "version": "3.6.3"
  }
 },
 "nbformat": 4,
 "nbformat_minor": 2
}
