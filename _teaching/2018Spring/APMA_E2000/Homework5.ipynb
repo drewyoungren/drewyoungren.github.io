{
 "cells": [
  {
   "cell_type": "markdown",
   "metadata": {},
   "source": [
    "# Homework 5\n",
    "## Due: February 20, 2018, 8 a.m.\n",
    "\n",
    "Please give a complete, justified solution to each question below. A single-term answer without explanation will receive no credit. \n",
    "\n",
    "Please complete each question on its own sheet of paper (or more if necessary), and upload to [Gradsescope](https://gradescope.com/)."
   ]
  },
  {
   "cell_type": "markdown",
   "metadata": {},
   "source": [
    "$$\n",
    "\\newcommand{\\R}{\\mathbb{R}}\n",
    "\\newcommand{\\dydx}{\\frac{dy}{dx}}\n",
    "\\newcommand{\\proj}{\\textrm{proj}}\n",
    "% For boldface vectors:\n",
    "\\renewcommand{\\vec}[1]{\\mathbf{#1}}\n",
    "$$"
   ]
  },
  {
   "cell_type": "markdown",
   "metadata": {},
   "source": [
    "1\\. A friend was asked to find the equation of the tangent plane to the surface $z = x^3 - \\arctan (y-1) $ at the point $(x, y) = (2, 1)$.  The friend's answer was\n",
    "\t\\\\[z = 3x^2(x-2) - \\frac{1}{2-2y+y^2}(y-1)+8.\\\\]\n",
    "  - At a glance, without doing any computation, how do you know that this is incorrect?  What mistake did the friend make?\n",
    "  - Answer the question correctly.\n",
    "\\end{enumerate}"
   ]
  },
  {
   "cell_type": "markdown",
   "metadata": {},
   "source": [
    "2\\. Estimate the quantity \\\\[ \\frac{8.01}{\\sqrt{1.99\\times2.01}} \\\\] \"by hand\" using a technique similar to that done in class.\n",
    "      "
   ]
  },
  {
   "cell_type": "markdown",
   "metadata": {},
   "source": [
    "3\\.&nbsp;&nbsp;Let \\\\[ f(x,y) = \\ln (y-x^2) \\\\]\n",
    "  - Find $L(x,y)$, the linearization of $f$ around the point $(0,1)$ and show that $L$ has the same first-order partial derivatives as $f$ at that point.\n",
    "  - Find constants $a_1,\\ldots,a_6$ such that the function \\\\[M(x,y) = a_1 + a_2x +a_3y +a_4x^2 +a_5 xy +a_6 y^2\\\\] has the same \n",
    "    - value, \n",
    "    - first-order partial derivatives, and\n",
    "    - second-order partial derivatives \n",
    "as $f$ at $(0,1)$."
   ]
  },
  {
   "cell_type": "markdown",
   "metadata": {},
   "source": [
    "4\\.  Find the value of $\\partial x/\\partial z$ at the point $(1, -1, -3)$ if the equation\n",
    "\t\\\\[ xz + y \\ln(x) - x^2 + 4 = 0\\\\]\n",
    "defines $x$ as a function of the two independent variables $y$ and $z$."
   ]
  },
  {
   "cell_type": "markdown",
   "metadata": {},
   "source": [
    "5\\. If $f(u, v, w)$ is differentiable and $u = x-y, v= y-z$, and $w = z-x$, show that\n",
    "\\\\[ \\frac{\\partial f}{\\partial x} + \\frac{\\partial f}{\\partial y} + \\frac{\\partial f}{\\partial z} = 0. \\\\]"
   ]
  },
  {
   "cell_type": "markdown",
   "metadata": {},
   "source": [
    "6\\. A function $f(x, y)$ is called __homogeneous of degree__ $p$ if\n",
    "\t\\\\[ f(tx, ty) = t^p f(x, y)\\\\]\n",
    "\tfor all $t$.  Show that any differentiable, homogeneous function of degree $p$ satisfies Euler's Theorem:\n",
    "\t\\\\[ x f_x(x, y) + y f_y(x, y) = p f(x, y). \\\\]\n",
    "\t__Hint:__ Define $g(t) = f(tx, ty)$ and compute $g'(1)$."
   ]
  },
  {
   "cell_type": "code",
   "execution_count": null,
   "metadata": {
    "collapsed": true
   },
   "outputs": [],
   "source": []
  }
 ],
 "metadata": {
  "kernelspec": {
   "display_name": "Python 3",
   "language": "python",
   "name": "python3"
  },
  "language_info": {
   "codemirror_mode": {
    "name": "ipython",
    "version": 3
   },
   "file_extension": ".py",
   "mimetype": "text/x-python",
   "name": "python",
   "nbconvert_exporter": "python",
   "pygments_lexer": "ipython3",
   "version": "3.6.3"
  }
 },
 "nbformat": 4,
 "nbformat_minor": 2
}
