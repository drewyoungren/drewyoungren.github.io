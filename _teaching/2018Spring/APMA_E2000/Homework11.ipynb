{
 "cells": [
  {
   "cell_type": "markdown",
   "metadata": {},
   "source": [
    "# Homework 11\n",
    "## Due: April 10, 2018, 8 a.m.\n",
    "\n",
    "Please give a complete, justified solution to each question below. A single-term answer without explanation will receive no credit. \n",
    "\n",
    "Please complete each question on its own sheet of paper (or more if necessary), and upload to [Gradsescope](https://gradescope.com/)."
   ]
  },
  {
   "cell_type": "markdown",
   "metadata": {},
   "source": [
    "$$\n",
    "\\newcommand{\\R}{\\mathbb{R}}\n",
    "\\newcommand{\\dydx}{\\frac{dy}{dx}}\n",
    "\\newcommand{\\proj}{\\textrm{proj}}\n",
    "% For boldface vectors:\n",
    "\\renewcommand{\\vec}[1]{\\mathbf{#1}}\n",
    "$$"
   ]
  },
  {
   "cell_type": "markdown",
   "metadata": {},
   "source": [
    "1\\. Compute $\\int_C \\vec F \\cdot d\\vec r$, where $C$ is the oriented curve in the figure, and $\\vec F$ is the vector field that is constant on each of the three straight segments of $C$:\n",
    "\t\t\\\\[ \\vec F(x, y) = \\left \\{ \\begin{array}{l c l} x\\,\\vec i & & \\text{on } PQ \\\\ \n",
    "\t\t\t\t\t\t\t\t 2x\\,\\vec i - \\vec j & & \\text{on } QR \\\\\n",
    "\t\t\t\t\t\t\t\t 3x\\,\\vec i + \\vec j & & \\text{on } RS. \\end{array}\\right.\\\\]\n",
    "\t\t![Polygonal path](hw-13-1_13-2-Fig5.png)"
   ]
  },
  {
   "cell_type": "markdown",
   "metadata": {},
   "source": [
    "2\\. Suppose $g:\\R\\to\\R$ is a smooth, nonconstant function. \n",
    "  - Show that $g(x)\\,\\vec i$ is a conservative vector field.\n",
    "  - Then, use the idea of path-independence (i.e., use Theorem 4 from §16.3) to show $g(x)\\,\\vec j$ is not conservative. (_Hint: construct two paths with common endpoints but different line integrals of the vector field._)"
   ]
  },
  {
   "cell_type": "markdown",
   "metadata": {},
   "source": [
    "3\\. Let $\\vec F = 3x^2 y^2\\,\\vec i + 2x^3 y\\,\\vec j$ and let $C$ be the path in the $xy$-plane from $(-1, 1)$ to $(1, 1)$ that consists of the line segment from $(-1, 1)$ to $(0, 0)$ followed by the line segment from $(0, 0)$ to $(1, 1)$.  Evaluate $\\displaystyle\\int_C \\vec F \\cdot d\\vec r$ in two ways:\n",
    "\n",
    "&nbsp;&nbsp;a\\. Find  parametrizations for the segments that make up $C$, and evaluate $\\displaystyle\\int_C \\vec F \\cdot d\\vec r$.\n",
    "\n",
    "&nbsp;&nbsp;b\\.Find a potential function $f$ for $\\vec F$ and use it to to evaluate $\\displaystyle\\int_C \\vec F \\cdot d\\vec r$."
   ]
  },
  {
   "cell_type": "markdown",
   "metadata": {},
   "source": [
    "4\\. Find a value $c$ such that the work done by a force field \\\\[\n",
    "\t\t\t\\vec F (x,y) = \\langle 4-x^2y,-xy \\rangle \n",
    "\t\t\\\\] on an object moving along the parabolic path $y=c(1-x^2)$ from $(-1,0)$ to $(1,0)$ is a minimum. Compare the result with the straight line segment ($c = 0$) running between the two points."
   ]
  },
  {
   "cell_type": "markdown",
   "metadata": {},
   "source": [
    "5\\. Use Green's theorem to evaluate each line integral below or explain how it does not apply.\n",
    "  \n",
    "  - $$\\displaystyle\\int_C \\frac{1}{\\sqrt{x^2 + y^2}} \\ dx - \\frac{1}{\\sqrt{x^2 + y^2}} \\ dy$$ where $C$ is the unit circle centered at the origin, oriented counterclockwise.\n",
    "\n",
    "  - $$\\displaystyle\\int_C (x^2 + y^2) dx + (x^2 + y^2 ) \\ dy$$ where $C$ is the boundary of the region bounded by $y = x$, $y = x^2$, $0 \\leq x \\leq 1$, with counterclockwise orientation.\n",
    "  \n",
    "  - $\\displaystyle\\int_C \\vec F \\cdot d\\vec r$ where $\\vec F = x \\vec i + y \\vec j$ and $C$ is the line segment from the origin to  the point $(1,1)$.\n",
    "\t\t\t"
   ]
  },
  {
   "cell_type": "markdown",
   "metadata": {},
   "source": [
    "6\\. \n",
    "  \n",
    "&nbsp;&nbsp;a\\. Show that for the vector field $\\vec F(x,y) = \\frac12 \\langle -y,x$, the line integral $\\oint \\vec F\\cdot d\\vec r$ over a simple, closed curve $C$ is the area enclosed by $C$.\n",
    "  \n",
    "&nbsp;&nbsp;b\\. Use part (a) to compute the area enclosed by one \"leaf\" of the trefoil given in polar coordinates by $r=\\sin(3\\theta)$ for $0\\le \\theta \\le \\pi$.\n",
    "    ![Trefoil](tref.png)\n",
    "    \n",
    "(_You must first parametrize this curve. The integrand looks awful at one point but simplifies greatly._)"
   ]
  },
  {
   "cell_type": "code",
   "execution_count": null,
   "metadata": {
    "collapsed": true
   },
   "outputs": [],
   "source": []
  }
 ],
 "metadata": {
  "kernelspec": {
   "display_name": "Python 3",
   "language": "python",
   "name": "python3"
  },
  "language_info": {
   "codemirror_mode": {
    "name": "ipython",
    "version": 3
   },
   "file_extension": ".py",
   "mimetype": "text/x-python",
   "name": "python",
   "nbconvert_exporter": "python",
   "pygments_lexer": "ipython3",
   "version": "3.6.3"
  }
 },
 "nbformat": 4,
 "nbformat_minor": 2
}
