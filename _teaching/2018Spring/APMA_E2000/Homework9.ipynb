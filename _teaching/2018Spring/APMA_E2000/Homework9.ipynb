{
 "cells": [
  {
   "cell_type": "markdown",
   "metadata": {},
   "source": [
    "# Homework 9\n",
    "## Due: March 27, 2018, 8 a.m.\n",
    "\n",
    "Please give a complete, justified solution to each question below. A single-term answer without explanation will receive no credit. \n",
    "\n",
    "Please complete each question on its own sheet of paper (or more if necessary), and upload to [Gradsescope](https://gradescope.com/)."
   ]
  },
  {
   "cell_type": "markdown",
   "metadata": {},
   "source": [
    "$$\n",
    "\\newcommand{\\R}{\\mathbb{R}}\n",
    "\\newcommand{\\dydx}{\\frac{dy}{dx}}\n",
    "\\newcommand{\\proj}{\\textrm{proj}}\n",
    "% For boldface vectors:\n",
    "\\renewcommand{\\vec}[1]{\\mathbf{#1}}\n",
    "$$"
   ]
  },
  {
   "cell_type": "markdown",
   "metadata": {},
   "source": [
    "1. Sketch the region of integration of the of the following iterated integral and then re-express it in \"$dx\\,dz\\,dy$\" order.\n",
    "\n",
    "\\\\[ \\int_{-1}^0\\int_{-\\sqrt{1-x^2}}^{\\sqrt{1-x^2}} \\int_0^{y+2} f(x,y,z) \\,dz\\, dy\\, dx \\\\]\n",
    "    Finally, reexpress it in cylindrical coordinates."
   ]
  },
  {
   "cell_type": "markdown",
   "metadata": {},
   "source": [
    "2\\. Find the volume of the following \"stadium\" using spherical coordinates. The \"inner\" wall is a piece of a sphere of radius 2. ![Weird Stadium](new_coliseum.png)"
   ]
  },
  {
   "cell_type": "markdown",
   "metadata": {},
   "source": [
    "3\\. Find the center of mass $(\\overline{x},\\overline{y},\\overline{z})$ of the \"ice cream cone\" from homework 8 (that is the region above the cone $z=\\sqrt{x^2+y^2}$ and inside the sqphere $x^2+y^2+z^2=8$). Assume the ice cream has uniform density. \n",
    "\n",
    "   _Hint: You may reason your way to 2 of the coordinates without computing anything directly, but you must set up and evaluate an integral (or integrals) for the third._ "
   ]
  },
  {
   "cell_type": "markdown",
   "metadata": {},
   "source": [
    "4\\. Repeat question 3 but assume the ice cream in the cone (i.e., that below the rim) is twice as dense as that above. "
   ]
  }
 ],
 "metadata": {
  "kernelspec": {
   "display_name": "Python 3",
   "language": "python",
   "name": "python3"
  },
  "language_info": {
   "codemirror_mode": {
    "name": "ipython",
    "version": 3
   },
   "file_extension": ".py",
   "mimetype": "text/x-python",
   "name": "python",
   "nbconvert_exporter": "python",
   "pygments_lexer": "ipython3",
   "version": "3.6.3"
  }
 },
 "nbformat": 4,
 "nbformat_minor": 2
}
