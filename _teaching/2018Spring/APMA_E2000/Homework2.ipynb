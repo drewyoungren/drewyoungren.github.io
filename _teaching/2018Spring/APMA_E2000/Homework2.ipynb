{
 "cells": [
  {
   "cell_type": "markdown",
   "metadata": {},
   "source": [
    "# Homework 2\n",
    "## Due: January 30, 2018, 8 a.m.\n",
    "\n",
    "Please give a complete, justified solution to each question below. A single-term answer without explanation will receive no credit. \n",
    "\n",
    "Please complete each question on its own sheet of paper (or more if necessary), and upload to [Gradsescope](https://gradescope.com/)."
   ]
  },
  {
   "cell_type": "markdown",
   "metadata": {},
   "source": [
    "$$\n",
    "\\newcommand{\\R}{\\mathbb{R}}\n",
    "\\newcommand{\\dydx}{\\frac{dy}{dx}}\n",
    "\\newcommand{\\proj}{\\textrm{proj}}\n",
    "% For boldface vectors:\n",
    "\\renewcommand{\\vec}[1]{\\mathbf{#1}}\n",
    "$$"
   ]
  },
  {
   "cell_type": "markdown",
   "metadata": {},
   "source": [
    "1\\.&nbsp;&nbsp; Suppose $\\vec a \\ne \\vec 0$.\n",
    "  - Suppose $\\vec a \\cdot \\vec b = \\vec a \\cdot \\vec c$. Does it follow that $\\vec b = \\vec c$?\n",
    "  - Suppose $\\vec a \\times \\vec b = \\vec a \\times \\vec c$. Does it follow that $\\vec b = \\vec c$?\n",
    "  - Suppose $\\vec a \\cdot \\vec b = \\vec a \\cdot \\vec c$ and $\\vec a \\times \\vec b = \\vec a \\times \\vec c$. Does it follow that $\\vec b = \\vec c$?"
   ]
  },
  {
   "cell_type": "markdown",
   "metadata": {},
   "source": [
    "2\\. Find parametric equations for the following lines:\n",
    "  - the line that goes through the points $(0, -3, 1)$ and $(5, 2, 2)$\n",
    "  - the line that goes through the point $(3, 2, 1)$ and is perpendicular to the plane described by the equation\n",
    "$$4x + 3y - 5z = 3.$$\n",
    "\n",
    "  Find equations for the following planes:\n",
    "  - the plane that passes through the point $(1, -1, 1)$ and contains the line with symmetric equations\n",
    "$$x = 2y = 3z.$$ \n",
    "  - the plane that contains all points that are equidistant from the points $(3, 2, -1)$ and $(-7, 4, -3)$.\n"
   ]
  },
  {
   "cell_type": "markdown",
   "metadata": {},
   "source": [
    "3\\. Show that if $\\langle a, b, c \\rangle$ is a unit vector, then the distance between the parallel planes given by \n",
    "$$\n",
    "\tax+by+cz = d_1 ~~~\\text{ and }~~~ ax+by+cz = d_2\n",
    "$$ is $\\left|d_1-d_2\\right|$. _Do not just quote a formula in the text. Use projection._"
   ]
  },
  {
   "cell_type": "markdown",
   "metadata": {},
   "source": [
    "4\\. Show that the planes $$ 2x + y -3 z = 4 ~~~\\text{ and } ~~~ 4x + 2y -6 z = -2 $$\n",
    "\tare parallel and find the distance between the two parallel planes above.\n"
   ]
  },
  {
   "cell_type": "markdown",
   "metadata": {},
   "source": [
    "5\\. (1) Sketch the trace at $z=0$ for each relation below and (2) match the equation with the surface it defines.\n",
    "\t\n",
    "<table text-align=\"left\">\n",
    "    <tr><td width=\"25%\">(i) $x = y^2 - z^2$</td>\n",
    "    <td width=\"25%\">(iii) $x^2 = y^2 + z^2$</td></tr>\n",
    "    <tr><td> (ii) $9y^2 + z^2 = 16$ </td>\n",
    "    <td> (iv) $z^2 + x^2 - y^2 = 1$</td></tr>\n",
    "</table>\n",
    "\n",
    "<table>\n",
    "    <tr><td width=\"25%\">(A) <img src=\"hw-10-6-fig2.png\" width=\"45%\"></td>\n",
    "    <td width=\"25%\">(B) <img src=\"hw-10-6-fig1.png\" width=\"45%\"></td></tr>\n",
    "    <tr><td>(C) <img src=\"hw-10-6-fig4.png\" width=\"45%\"></td>\n",
    "    <td>(D) <img src=\"hw-10-6-fig3.png\" width=\"45%\"></td></tr>\n",
    "</table>"
   ]
  },
  {
   "cell_type": "markdown",
   "metadata": {},
   "source": [
    "6\\. Find an equation for the surface consisting of all points $P$ for which the distance from $P$ to the $y$-axis is half the distance from $P$ to the $xz$-plane.  Sketch or briefly describe the surface."
   ]
  },
  {
   "cell_type": "markdown",
   "metadata": {},
   "source": [
    "7\\. Find paramtric equations for a straight line through the point $(1,1,0)$ that lies entirely on the surface of the hyperboloid $$\n",
    "\tx^2+y^2 = z^2 +2.\n",
    "$$\n"
   ]
  }
 ],
 "metadata": {
  "kernelspec": {
   "display_name": "Python 3",
   "language": "python",
   "name": "python3"
  },
  "language_info": {
   "codemirror_mode": {
    "name": "ipython",
    "version": 3
   },
   "file_extension": ".py",
   "mimetype": "text/x-python",
   "name": "python",
   "nbconvert_exporter": "python",
   "pygments_lexer": "ipython3",
   "version": "3.6.3"
  }
 },
 "nbformat": 4,
 "nbformat_minor": 2
}
