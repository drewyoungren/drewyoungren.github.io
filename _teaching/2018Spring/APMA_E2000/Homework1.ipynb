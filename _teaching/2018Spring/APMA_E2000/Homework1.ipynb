{
 "cells": [
  {
   "cell_type": "markdown",
   "metadata": {},
   "source": [
    "# Homework 1\n",
    "## Due: January 22, 2018, 8 a.m.\n",
    "\n",
    "Please give a complete, justified solution to each question below. A single-term answer without explanation will receive no credit. \n",
    "\n",
    "Please complete each question on its own sheet of paper (or more if necessary), and upload to [Gradsescope](https://gradescope.com/)."
   ]
  },
  {
   "cell_type": "markdown",
   "metadata": {},
   "source": [
    "$$\n",
    "\\newcommand{\\R}{\\mathbb{R}}\n",
    "\\newcommand{\\dydx}{\\frac{dy}{dx}}\n",
    "\\newcommand{\\proj}{\\textrm{proj}}\n",
    "% For boldface vectors:\n",
    "\\renewcommand{\\vec}[1]{\\mathbf{#1}}\n",
    "$$"
   ]
  },
  {
   "cell_type": "markdown",
   "metadata": {},
   "source": [
    "1\\.&nbsp;&nbsp; a\\. Let $\\mathcal{S}$ be the solid region first octant bounded by the coordinate planes and the planes $x = 3$, $y = 3$, and $z = 4$  (including points on the surface of the region). Sketch, or describe the shape of the solid region $\\mathcal{E}$ consisting of all points that are at most 1 unit of distance from some point in $\\mathcal{S}$. Also find the volume of $\\mathcal{E}$.\n",
    "\n",
    "&nbsp;&nbsp; b\\. Write an equation that describes the set of all points that are equidistant from the origin and the point $(2, -1, -2)$. What does this set look like?\n"
   ]
  },
  {
   "cell_type": "markdown",
   "metadata": {},
   "source": [
    "2\\. Consider the points $A = (0, -3, -1)$ and $B = (1, 2, -2)$.  Let $O$ denote the origin, $(0, 0, 0)$.\n",
    "\n",
    "&nbsp;&nbsp; a\\.  Let $M$ denote the midpoint of the line segment $\\overline{AB}$.  Find the vector $\\overrightarrow{OM}$.\n",
    "\n",
    "\n",
    "&nbsp;&nbsp; b\\. Let $N$ denote the point on the line segment $\\overline{AB}$, whose distance from $A$ is a quarter of the distance between $A$ and $B$.  Find the vector $\\overrightarrow{ON}$."
   ]
  },
  {
   "cell_type": "markdown",
   "metadata": {},
   "source": [
    "3\\. Consider the vectors $\\mathbf a = \\langle 3, 2\\rangle$ and $\\mathbf b = \\langle 2, -1\\rangle$.\n",
    "\n",
    "&nbsp;&nbsp; a\\. Draw the vectors: (i) $0.5 \\mathbf a + 0.5 \\mathbf b$; (ii) $2 \\mathbf a - \\mathbf b$; and (iii) $1.5 \\mathbf a - 0.5 \\mathbf b$.\n",
    "    \n",
    "&nbsp;&nbsp; b\\. Choose any two scalars $s$ and $t$ that add up to 1.  Then, draw the vector $s \\mathbf a + t\\mathbf b$.  (Choose $s$ and $t$ so that the resulting vector is different from any of the vectors in part (a)).\n",
    "\n",
    "&nbsp;&nbsp; c\\.Describe what you observe from parts (a) and (b).  That is,\n",
    "\tdescribe the vectors obtained by adding $s$ times $\\mathbf a$ and $t$ times $\\mathbf b$, whenever $s + t = 1$.\n",
    "    \n",
    "&nbsp;&nbsp; d\\. Describe the vectors obtained by adding $s$ times $\\mathbf a$ and $t$ times $\\mathbf b$, whenever $s + t = 1$ and $s$ and $t$ are nonnegative."
   ]
  },
  {
   "cell_type": "markdown",
   "metadata": {},
   "source": [
    "4\\. Find the vectors whose lengths and directions are given:\n",
    "\\begin{enumerate}\n",
    "\n",
    "&nbsp;&nbsp; a\\.length = $\\frac{1}{\\sqrt{14}}$, direction = $-3 \\mathbf i + 2 \\mathbf j + \\vec k$\n",
    "    \n",
    "&nbsp;&nbsp; b\\. length = $\\frac{13}{12}$, direction = $\\frac{3}{13} \\mathbf i - \\frac{12}{13} \\mathbf j + \\frac{4}{13} \\mathbf k$\n"
   ]
  },
  {
   "cell_type": "markdown",
   "metadata": {},
   "source": [
    "5\\. Compute the scalar triple product $\\mathbf u \\cdot (\\mathbf v \\times \\mathbf w)$, where $\\mathbf u, \\mathbf v, \\mathbf w$ are as follows:\n",
    "\t\\begin{eqnarray*}\n",
    "\t\\mathbf u & = & 2\\mathbf i - 2 \\mathbf j + 4\\mathbf k\\\\ \n",
    "\t\\mathbf v & = & 2\\mathbf i +9 \\mathbf j -\\mathbf k \\\\\n",
    "\t\\mathbf w & = & 4 \\mathbf i + 7 \\mathbf j + 3 \\mathbf k.\n",
    "\t\\end{eqnarray*}\n",
    "Then, explain how you can tell that all three vectors lie on the same plane from the value of the scalar triple product that you computed above. (_Hint:_ What is $\\mathbf u$ perpendicular to?)"
   ]
  },
  {
   "cell_type": "markdown",
   "metadata": {},
   "source": [
    "6\\. Suppose that $\\mathbf u$ and $\\mathbf v$ are nonzero vectors in $\\mathbb{R}^3$.  Show that the vector $\\mathbf u - \\operatorname{proj}_{\\mathbf v} \\mathbf u$ is orthogonal to $\\operatorname{proj}_\\vec{v}\\vec u$. \n",
    "\n",
    "**bonus** Use *this* result to find the point on the plane containing $(0,0,0)$, $(1,1,0)$, and $(0,1,1)$ that is closest to the point $(1,0,0)$."
   ]
  },
  {
   "cell_type": "markdown",
   "metadata": {},
   "source": [
    "7\\. Consider a 100 Newton weight suspended by two wires as shown in the figure below.  Find the magnitudes and  the $\\mathbf i$- and $\\mathbf j$- components of the force vectors $\\mathbf F_1$ and $\\mathbf F_2$.\n",
    "\n",
    "![HW&pic](old/hw-10-2-figure1.png)\n"
   ]
  }
 ],
 "metadata": {
  "kernelspec": {
   "display_name": "Python 3",
   "language": "python",
   "name": "python3"
  },
  "language_info": {
   "codemirror_mode": {
    "name": "ipython",
    "version": 3
   },
   "file_extension": ".py",
   "mimetype": "text/x-python",
   "name": "python",
   "nbconvert_exporter": "python",
   "pygments_lexer": "ipython3",
   "version": "3.6.3"
  }
 },
 "nbformat": 4,
 "nbformat_minor": 2
}
