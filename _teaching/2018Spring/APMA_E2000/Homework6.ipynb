{
 "cells": [
  {
   "cell_type": "markdown",
   "metadata": {},
   "source": [
    "# Homework 6\n",
    "## Due: February 27, 2018, 8 a.m.\n",
    "\n",
    "Please give a complete, justified solution to each question below. A single-term answer without explanation will receive no credit. \n",
    "\n",
    "Please complete each question on its own sheet of paper (or more if necessary), and upload to [Gradsescope](https://gradescope.com/)."
   ]
  },
  {
   "cell_type": "markdown",
   "metadata": {},
   "source": [
    "$$\n",
    "\\newcommand{\\R}{\\mathbb{R}}\n",
    "\\newcommand{\\dydx}{\\frac{dy}{dx}}\n",
    "\\newcommand{\\proj}{\\textrm{proj}}\n",
    "% For boldface vectors:\n",
    "\\renewcommand{\\vec}[1]{\\mathbf{#1}}\n",
    "$$"
   ]
  },
  {
   "cell_type": "markdown",
   "metadata": {},
   "source": [
    "1\\. Let $f(x, y) = \\frac{x+y}{1+x^2}$.  Find the directional derivative of $f$ at the point $(1, -2)$ in the direction of:\n",
    "\n",
    "  - $\\vec u = 3\\,\\vec i - 2\\,\\vec j$\n",
    "  - $\\vec v = -\\vec i + 4\\,\\vec j$"
   ]
  },
  {
   "cell_type": "markdown",
   "metadata": {},
   "source": [
    "2\\. a. Two surfaces are called \\textbf{orthogonal} at a point of intersection if their normal lines are perpendicular at that point.\n",
    "\n",
    "Show that surfaces with equations $F(x, y, z) = 0$ and $G(x, y, z) = 0$ are orthogonal at a point $P$ where $\\nabla F \\neq 0$ and $\\nabla G \\neq 0$ if and only if at the point $P$,\n",
    "\t\\\\[ F_x G_x + F_y G_y + F_zG_z = 0. \\\\]\n",
    "    \n",
    "  b\\. Use part a. to show that the surfaces $z^2 = x^2 + y^2$ (a cone) and $x^2 + y^2 + z^2 = r^2$ (a sphere) are orthogonal at every point of intersection.\n",
    "      "
   ]
  },
  {
   "cell_type": "markdown",
   "metadata": {},
   "source": [
    "3\\.&nbsp;&nbsp;Consider the function $f(x,y)=x^2 - \\frac{y^2}{9}$. \n",
    "\n",
    "  a\\. Sketch a contour plot with (at least) levels $k=0,\\pm1,\\pm2,\\pm3$. Plot a point at $(2,6)$ and roughly sketch a ``path of greatest descent'' starting from this point. That is, a path along which the directional derivative is as low a number as possible.\n",
    "\n",
    "b\\. Find a formula for your curve in part a. That is, find a curve $\\vec r(t) = \\langle x(t),y(t)\\rangle$ such that \\\\[\n",
    "\t\t-\\nabla f = \\vec r'(t)\n",
    "\t\\\\] and $\\vec r(0) = \\langle 2,6 \\rangle$. (This is technically an ODE, but one you can solve.)\n",
    "\n",
    "c\\. In your curve from part b, solve for $y$ in terms of $x$ and plot the function. Is it close to your guess from part a? \n",
    "\n",
    "d\\. Compare, qualitatively, what happnes to the limit \\\\[\\lim_{t\\to\\infty} \\vec r(t) \\\\] in the three cases:\n",
    "  - $ \\vec r(0) = \\langle 10,.01\\rangle$\n",
    "  - $\\vec r(0) = \\langle 10,0\\rangle$\n",
    "  - $\\vec r(0) = \\langle 10,-.01\\rangle$"
   ]
  }
 ],
 "metadata": {
  "kernelspec": {
   "display_name": "Python 3",
   "language": "python",
   "name": "python3"
  },
  "language_info": {
   "codemirror_mode": {
    "name": "ipython",
    "version": 3
   },
   "file_extension": ".py",
   "mimetype": "text/x-python",
   "name": "python",
   "nbconvert_exporter": "python",
   "pygments_lexer": "ipython3",
   "version": "3.6.3"
  }
 },
 "nbformat": 4,
 "nbformat_minor": 2
}
