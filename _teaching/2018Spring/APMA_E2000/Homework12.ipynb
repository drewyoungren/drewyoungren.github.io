{
 "cells": [
  {
   "cell_type": "markdown",
   "metadata": {},
   "source": [
    "# Homework 12\n",
    "## Due: April 17, 2018, 8 a.m.\n",
    "\n",
    "Please give a complete, justified solution to each question below. A single-term answer without explanation will receive no credit. \n",
    "\n",
    "Please complete each question on its own sheet of paper (or more if necessary), and upload to [Gradsescope](https://gradescope.com/)."
   ]
  },
  {
   "cell_type": "markdown",
   "metadata": {},
   "source": [
    "$$\n",
    "\\newcommand{\\R}{\\mathbb{R}}\n",
    "\\newcommand{\\dydx}{\\frac{dy}{dx}}\n",
    "\\newcommand{\\proj}{\\textrm{proj}}\n",
    "% For boldface vectors:\n",
    "\\renewcommand{\\vec}[1]{\\mathbf{#1}}\n",
    "$$"
   ]
  },
  {
   "cell_type": "markdown",
   "metadata": {},
   "source": [
    "1\\. For each of the following vector fields, determine if the divergence is positive, zero, or negative at the indicated point.  Explain/justify your answer.\n",
    "\n",
    "![VF1](hw-13-5-fig1.png) ![VF2](hw-13-5-fig2.png) ![VF3](hw-13-5-fig3.png)\n"
   ]
  },
  {
   "cell_type": "markdown",
   "metadata": {},
   "source": [
    "2\\. Let $f$ be a smooth, scalar-valued function on $\\R^3$ and let $\\vec F$ be a smooth vector field on $\\R^3$. For each expression below:\n",
    "\n",
    "  i\\. Determine if at a given point $(x,y,z)$, it is a scalar, a vector, or invalid.\n",
    "\n",
    "ii\\. If invalid, explain.\n",
    "\n",
    "iii\\. If valid, prove that the expression is identically $0$ or $\\vec 0$, or give a specific counterexample.\n",
    "  \n",
    "  - $\\displaystyle \\nabla\\times\\nabla f$\n",
    "  - $\\displaystyle \\nabla(\\nabla\\times F)$\n",
    "  - $\\displaystyle \\nabla\\cdot(\\nabla\\times F)$\n",
    "  - $\\displaystyle \\nabla\\cdot\\nabla f$\n",
    "  "
   ]
  },
  {
   "cell_type": "markdown",
   "metadata": {},
   "source": [
    "3\\. A _torus of revolution_ (doughnut) is obtained by rotating a circle $C$ in the $xz$ plane about the $z$-axis.  Suppose that $C$ has a radius $r$ and center $(R, 0, 0)$. Here, $R>r$.\n",
    "\n",
    "  - Find a parametrization $\\vec r(u, v)$ of the torus.  Specify the set $D$ in which $(u, v)$ must lie.\n",
    "\n",
    "_Hint: You can choose to let $u$ represent the angle that the line from the point $\\vec r(u, v)$ on the torus to the center of the rotated circle form with the $xy$-plane, and let $v$ denote the angle formed by the line from the point $\\vec r(u, v)$ on the torus to the origin with the positive $x$-axis.  See figures below._\n",
    "![Torus](hw-13-6-Fig1.png)\n",
    "\n",
    "  - Show that the surface area of the torus is $4\\pi^2Rr$."
   ]
  },
  {
   "cell_type": "markdown",
   "metadata": {},
   "source": [
    "4\\. Find a parametrization of the portion of the paraboloid $z = \\frac{x^2 + y^2}{4}$ between the planes $z = 1$ and $z = 2.25$.  Use the parametrization to formulate the area of the surface as a double integral.  Then, evaluate the integral."
   ]
  },
  {
   "cell_type": "markdown",
   "metadata": {},
   "source": [
    "5\\. Suppose an hourglass (as pictured) is 15 cm tall, 8 cm across at its widest and .25 cm across at the narrow part. Find a reasonable parametrization for the (outside) surface of the glass and use it to compute its surface area.  \n",
    "\n",
    "![Hourglass](hourglass.jpg)"
   ]
  }
 ],
 "metadata": {
  "kernelspec": {
   "display_name": "Python 3",
   "language": "python",
   "name": "python3"
  },
  "language_info": {
   "codemirror_mode": {
    "name": "ipython",
    "version": 3
   },
   "file_extension": ".py",
   "mimetype": "text/x-python",
   "name": "python",
   "nbconvert_exporter": "python",
   "pygments_lexer": "ipython3",
   "version": "3.6.3"
  }
 },
 "nbformat": 4,
 "nbformat_minor": 2
}
