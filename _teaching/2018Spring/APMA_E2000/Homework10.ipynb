{
 "cells": [
  {
   "cell_type": "markdown",
   "metadata": {},
   "source": [
    "# Homework 10\n",
    "## Due: April 3, 2018, 8 a.m.\n",
    "\n",
    "Please give a complete, justified solution to each question below. A single-term answer without explanation will receive no credit. \n",
    "\n",
    "Please complete each question on its own sheet of paper (or more if necessary), and upload to [Gradsescope](https://gradescope.com/)."
   ]
  },
  {
   "cell_type": "markdown",
   "metadata": {},
   "source": [
    "$$\n",
    "\\newcommand{\\R}{\\mathbb{R}}\n",
    "\\newcommand{\\dydx}{\\frac{dy}{dx}}\n",
    "\\newcommand{\\proj}{\\textrm{proj}}\n",
    "% For boldface vectors:\n",
    "\\renewcommand{\\vec}[1]{\\mathbf{#1}}\n",
    "$$"
   ]
  },
  {
   "cell_type": "markdown",
   "metadata": {},
   "source": [
    "1\\. Each vctor field below has the form $\\vec F(x,y) = P(x,y)\\,\\vec i + Q(x,y)\\,\\vec j$ where $P$ and $Q$ are sepelcted from among the functions \\\\[\\{\\pm x,\\pm y,\\pm x^2,\\pm y^2,\\pm \\cos(x),\\pm \\cos y \\}.\\\\]\n",
    "\n",
    "For each, find $P$ and $Q$ and briefly describe how you arrived at your conclusion.\n",
    "\n",
    "![Vector plots](vp10.png)"
   ]
  },
  {
   "cell_type": "markdown",
   "metadata": {},
   "source": [
    "2\\. Determine a potential function $f(x,y,z)$ for the following conservative vector field.\n",
    "\n",
    "\\\\[ \\vec F(x,y,z) = \\left(\\frac{1}{x}+y z^2-3\\right)\\,\\vec i+\\left(x z^2-z \\sin (y z)\\right)\\,\\vec j +\\left(2 x y z-y \\sin (y z)+\\frac{1}{z}\\right)\\,\\vec k \\\\]"
   ]
  },
  {
   "cell_type": "markdown",
   "metadata": {},
   "source": [
    "3\\. Compute the line integral $ \\int_C f \\,ds$ (i.e., with respect to arclength) where the curve $C$ is graphed below (oriented counterclockwise) and \\\\[f(x,y) = x^2 + y^2. \\\\]\n",
    "\n",
    "![Contour 1](con10.png)\n",
    "\n",
    "(You may use the interpretation $\\int_C f\\,ds$ given in class and/or use the formula \\\\[\\int_c f\\,ds = \\int_a^b f(\\vec r(t)) |\\vec r'(t)|\\,dt \\\\] as explained in §16.2 of the text.)"
   ]
  }
 ],
 "metadata": {
  "kernelspec": {
   "display_name": "Python 3",
   "language": "python",
   "name": "python3"
  },
  "language_info": {
   "codemirror_mode": {
    "name": "ipython",
    "version": 3
   },
   "file_extension": ".py",
   "mimetype": "text/x-python",
   "name": "python",
   "nbconvert_exporter": "python",
   "pygments_lexer": "ipython3",
   "version": "3.6.3"
  }
 },
 "nbformat": 4,
 "nbformat_minor": 2
}
